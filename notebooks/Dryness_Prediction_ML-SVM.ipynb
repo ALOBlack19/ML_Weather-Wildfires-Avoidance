{
 "cells": [
  {
   "cell_type": "code",
   "execution_count": 44,
   "id": "24ca0611",
   "metadata": {},
   "outputs": [],
   "source": [
    "import pandas as pd\n",
    "import numpy as np\n",
    "from sklearn.model_selection import train_test_split\n",
    "from sklearn.svm import SVC\n",
    "from sklearn.model_selection import cross_val_score\n",
    "from sklearn.metrics import accuracy_score, confusion_matrix, classification_report\n",
    "from imblearn.over_sampling import SMOTE\n",
    "from sklearn.model_selection import cross_val_score\n"
   ]
  },
  {
   "cell_type": "markdown",
   "id": "51870167",
   "metadata": {},
   "source": [
    "## SVM - Support Vector Machines"
   ]
  },
  {
   "cell_type": "markdown",
   "id": "3ed7d68c",
   "metadata": {},
   "source": [
    "On this notebook I'll apply the SVM model to predict the Dry days from the dataset where I preceed the Exploratory Data Analysis, Feature Engineering and data preprocessing on the _weather_classification_End-to-End_EDA_ notebook."
   ]
  },
  {
   "cell_type": "code",
   "execution_count": 45,
   "id": "869ad67c",
   "metadata": {},
   "outputs": [],
   "source": [
    "# Split the dataset into features and target variable\n",
    "\n",
    "# df = features\n",
    "df = pd.read_csv(r\"../datasets/processed_weather_data.csv\")\n",
    "\n",
    "# df1 = target variable (Dryness)\n",
    "df1 = pd.read_csv(r\"../datasets/weather_data_target.csv\")"
   ]
  },
  {
   "cell_type": "code",
   "execution_count": 46,
   "id": "bfd06330",
   "metadata": {},
   "outputs": [
    {
     "data": {
      "text/html": [
       "<div>\n",
       "<style scoped>\n",
       "    .dataframe tbody tr th:only-of-type {\n",
       "        vertical-align: middle;\n",
       "    }\n",
       "\n",
       "    .dataframe tbody tr th {\n",
       "        vertical-align: top;\n",
       "    }\n",
       "\n",
       "    .dataframe thead th {\n",
       "        text-align: right;\n",
       "    }\n",
       "</style>\n",
       "<table border=\"1\" class=\"dataframe\">\n",
       "  <thead>\n",
       "    <tr style=\"text-align: right;\">\n",
       "      <th></th>\n",
       "      <th>num__Temperature</th>\n",
       "      <th>num__Humidity</th>\n",
       "      <th>num__Wind Speed</th>\n",
       "      <th>num__Precipitation (%)</th>\n",
       "      <th>num__Atmospheric Pressure</th>\n",
       "      <th>num__UV Index</th>\n",
       "      <th>num__Visibility (km)</th>\n",
       "      <th>cat__Cloud Cover_cloudy</th>\n",
       "      <th>cat__Cloud Cover_overcast</th>\n",
       "      <th>cat__Cloud Cover_partly cloudy</th>\n",
       "      <th>cat__Season_Spring</th>\n",
       "      <th>cat__Season_Summer</th>\n",
       "      <th>cat__Season_Winter</th>\n",
       "      <th>cat__Location_inland</th>\n",
       "      <th>cat__Location_mountain</th>\n",
       "    </tr>\n",
       "  </thead>\n",
       "  <tbody>\n",
       "    <tr>\n",
       "      <th>0</th>\n",
       "      <td>-0.294931</td>\n",
       "      <td>0.212404</td>\n",
       "      <td>-0.048086</td>\n",
       "      <td>0.887629</td>\n",
       "      <td>0.134203</td>\n",
       "      <td>-0.520104</td>\n",
       "      <td>-0.582231</td>\n",
       "      <td>0.0</td>\n",
       "      <td>0.0</td>\n",
       "      <td>1.0</td>\n",
       "      <td>0.0</td>\n",
       "      <td>0.0</td>\n",
       "      <td>1.0</td>\n",
       "      <td>1.0</td>\n",
       "      <td>0.0</td>\n",
       "    </tr>\n",
       "    <tr>\n",
       "      <th>1</th>\n",
       "      <td>1.143035</td>\n",
       "      <td>1.351385</td>\n",
       "      <td>-0.192836</td>\n",
       "      <td>0.543291</td>\n",
       "      <td>0.150602</td>\n",
       "      <td>0.776424</td>\n",
       "      <td>1.345768</td>\n",
       "      <td>0.0</td>\n",
       "      <td>0.0</td>\n",
       "      <td>1.0</td>\n",
       "      <td>1.0</td>\n",
       "      <td>0.0</td>\n",
       "      <td>0.0</td>\n",
       "      <td>1.0</td>\n",
       "      <td>0.0</td>\n",
       "    </tr>\n",
       "    <tr>\n",
       "      <th>2</th>\n",
       "      <td>0.625367</td>\n",
       "      <td>-0.233285</td>\n",
       "      <td>-0.409962</td>\n",
       "      <td>-1.178401</td>\n",
       "      <td>0.346579</td>\n",
       "      <td>0.257813</td>\n",
       "      <td>0.010999</td>\n",
       "      <td>0.0</td>\n",
       "      <td>0.0</td>\n",
       "      <td>0.0</td>\n",
       "      <td>1.0</td>\n",
       "      <td>0.0</td>\n",
       "      <td>0.0</td>\n",
       "      <td>0.0</td>\n",
       "      <td>1.0</td>\n",
       "    </tr>\n",
       "    <tr>\n",
       "      <th>3</th>\n",
       "      <td>1.085516</td>\n",
       "      <td>0.707613</td>\n",
       "      <td>-1.206089</td>\n",
       "      <td>0.887629</td>\n",
       "      <td>0.549008</td>\n",
       "      <td>0.776424</td>\n",
       "      <td>-1.323769</td>\n",
       "      <td>0.0</td>\n",
       "      <td>0.0</td>\n",
       "      <td>0.0</td>\n",
       "      <td>1.0</td>\n",
       "      <td>0.0</td>\n",
       "      <td>0.0</td>\n",
       "      <td>0.0</td>\n",
       "      <td>0.0</td>\n",
       "    </tr>\n",
       "    <tr>\n",
       "      <th>4</th>\n",
       "      <td>0.452811</td>\n",
       "      <td>0.261924</td>\n",
       "      <td>1.037543</td>\n",
       "      <td>0.386773</td>\n",
       "      <td>-0.407490</td>\n",
       "      <td>-0.779410</td>\n",
       "      <td>-0.878846</td>\n",
       "      <td>0.0</td>\n",
       "      <td>1.0</td>\n",
       "      <td>0.0</td>\n",
       "      <td>0.0</td>\n",
       "      <td>0.0</td>\n",
       "      <td>1.0</td>\n",
       "      <td>0.0</td>\n",
       "      <td>1.0</td>\n",
       "    </tr>\n",
       "  </tbody>\n",
       "</table>\n",
       "</div>"
      ],
      "text/plain": [
       "   num__Temperature  num__Humidity  num__Wind Speed  num__Precipitation (%)  \\\n",
       "0         -0.294931       0.212404        -0.048086                0.887629   \n",
       "1          1.143035       1.351385        -0.192836                0.543291   \n",
       "2          0.625367      -0.233285        -0.409962               -1.178401   \n",
       "3          1.085516       0.707613        -1.206089                0.887629   \n",
       "4          0.452811       0.261924         1.037543                0.386773   \n",
       "\n",
       "   num__Atmospheric Pressure  num__UV Index  num__Visibility (km)  \\\n",
       "0                   0.134203      -0.520104             -0.582231   \n",
       "1                   0.150602       0.776424              1.345768   \n",
       "2                   0.346579       0.257813              0.010999   \n",
       "3                   0.549008       0.776424             -1.323769   \n",
       "4                  -0.407490      -0.779410             -0.878846   \n",
       "\n",
       "   cat__Cloud Cover_cloudy  cat__Cloud Cover_overcast  \\\n",
       "0                      0.0                        0.0   \n",
       "1                      0.0                        0.0   \n",
       "2                      0.0                        0.0   \n",
       "3                      0.0                        0.0   \n",
       "4                      0.0                        1.0   \n",
       "\n",
       "   cat__Cloud Cover_partly cloudy  cat__Season_Spring  cat__Season_Summer  \\\n",
       "0                             1.0                 0.0                 0.0   \n",
       "1                             1.0                 1.0                 0.0   \n",
       "2                             0.0                 1.0                 0.0   \n",
       "3                             0.0                 1.0                 0.0   \n",
       "4                             0.0                 0.0                 0.0   \n",
       "\n",
       "   cat__Season_Winter  cat__Location_inland  cat__Location_mountain  \n",
       "0                 1.0                   1.0                     0.0  \n",
       "1                 0.0                   1.0                     0.0  \n",
       "2                 0.0                   0.0                     1.0  \n",
       "3                 0.0                   0.0                     0.0  \n",
       "4                 1.0                   0.0                     1.0  "
      ]
     },
     "execution_count": 46,
     "metadata": {},
     "output_type": "execute_result"
    }
   ],
   "source": [
    "df.head()"
   ]
  },
  {
   "cell_type": "code",
   "execution_count": 47,
   "id": "3563407c",
   "metadata": {},
   "outputs": [
    {
     "data": {
      "text/html": [
       "<div>\n",
       "<style scoped>\n",
       "    .dataframe tbody tr th:only-of-type {\n",
       "        vertical-align: middle;\n",
       "    }\n",
       "\n",
       "    .dataframe tbody tr th {\n",
       "        vertical-align: top;\n",
       "    }\n",
       "\n",
       "    .dataframe thead th {\n",
       "        text-align: right;\n",
       "    }\n",
       "</style>\n",
       "<table border=\"1\" class=\"dataframe\">\n",
       "  <thead>\n",
       "    <tr style=\"text-align: right;\">\n",
       "      <th></th>\n",
       "      <th>Temperature</th>\n",
       "      <th>Humidity</th>\n",
       "      <th>Wind Speed</th>\n",
       "      <th>Precipitation (%)</th>\n",
       "      <th>Cloud Cover</th>\n",
       "      <th>Atmospheric Pressure</th>\n",
       "      <th>UV Index</th>\n",
       "      <th>Season</th>\n",
       "      <th>Visibility (km)</th>\n",
       "      <th>Location</th>\n",
       "      <th>Dryness</th>\n",
       "    </tr>\n",
       "  </thead>\n",
       "  <tbody>\n",
       "    <tr>\n",
       "      <th>0</th>\n",
       "      <td>14.0</td>\n",
       "      <td>73</td>\n",
       "      <td>9.5</td>\n",
       "      <td>82.0</td>\n",
       "      <td>partly cloudy</td>\n",
       "      <td>1010.82</td>\n",
       "      <td>2</td>\n",
       "      <td>Winter</td>\n",
       "      <td>3.5</td>\n",
       "      <td>inland</td>\n",
       "      <td>0</td>\n",
       "    </tr>\n",
       "    <tr>\n",
       "      <th>1</th>\n",
       "      <td>39.0</td>\n",
       "      <td>96</td>\n",
       "      <td>8.5</td>\n",
       "      <td>71.0</td>\n",
       "      <td>partly cloudy</td>\n",
       "      <td>1011.43</td>\n",
       "      <td>7</td>\n",
       "      <td>Spring</td>\n",
       "      <td>10.0</td>\n",
       "      <td>inland</td>\n",
       "      <td>0</td>\n",
       "    </tr>\n",
       "    <tr>\n",
       "      <th>2</th>\n",
       "      <td>30.0</td>\n",
       "      <td>64</td>\n",
       "      <td>7.0</td>\n",
       "      <td>16.0</td>\n",
       "      <td>clear</td>\n",
       "      <td>1018.72</td>\n",
       "      <td>5</td>\n",
       "      <td>Spring</td>\n",
       "      <td>5.5</td>\n",
       "      <td>mountain</td>\n",
       "      <td>0</td>\n",
       "    </tr>\n",
       "    <tr>\n",
       "      <th>3</th>\n",
       "      <td>38.0</td>\n",
       "      <td>83</td>\n",
       "      <td>1.5</td>\n",
       "      <td>82.0</td>\n",
       "      <td>clear</td>\n",
       "      <td>1026.25</td>\n",
       "      <td>7</td>\n",
       "      <td>Spring</td>\n",
       "      <td>1.0</td>\n",
       "      <td>coastal</td>\n",
       "      <td>0</td>\n",
       "    </tr>\n",
       "    <tr>\n",
       "      <th>4</th>\n",
       "      <td>27.0</td>\n",
       "      <td>74</td>\n",
       "      <td>17.0</td>\n",
       "      <td>66.0</td>\n",
       "      <td>overcast</td>\n",
       "      <td>990.67</td>\n",
       "      <td>1</td>\n",
       "      <td>Winter</td>\n",
       "      <td>2.5</td>\n",
       "      <td>mountain</td>\n",
       "      <td>0</td>\n",
       "    </tr>\n",
       "  </tbody>\n",
       "</table>\n",
       "</div>"
      ],
      "text/plain": [
       "   Temperature  Humidity  Wind Speed  Precipitation (%)    Cloud Cover  \\\n",
       "0         14.0        73         9.5               82.0  partly cloudy   \n",
       "1         39.0        96         8.5               71.0  partly cloudy   \n",
       "2         30.0        64         7.0               16.0          clear   \n",
       "3         38.0        83         1.5               82.0          clear   \n",
       "4         27.0        74        17.0               66.0       overcast   \n",
       "\n",
       "   Atmospheric Pressure  UV Index  Season  Visibility (km)  Location  Dryness  \n",
       "0               1010.82         2  Winter              3.5    inland        0  \n",
       "1               1011.43         7  Spring             10.0    inland        0  \n",
       "2               1018.72         5  Spring              5.5  mountain        0  \n",
       "3               1026.25         7  Spring              1.0   coastal        0  \n",
       "4                990.67         1  Winter              2.5  mountain        0  "
      ]
     },
     "execution_count": 47,
     "metadata": {},
     "output_type": "execute_result"
    }
   ],
   "source": [
    "df1.head()"
   ]
  },
  {
   "cell_type": "code",
   "execution_count": 48,
   "id": "713524e6",
   "metadata": {},
   "outputs": [],
   "source": [
    "X = df\n",
    "y = df1[\"Dryness\"]"
   ]
  },
  {
   "cell_type": "code",
   "execution_count": 49,
   "id": "f9fe7e7a",
   "metadata": {},
   "outputs": [
    {
     "data": {
      "text/plain": [
       "Dryness\n",
       "0    12618\n",
       "1      582\n",
       "Name: count, dtype: int64"
      ]
     },
     "execution_count": 49,
     "metadata": {},
     "output_type": "execute_result"
    }
   ],
   "source": [
    "y.value_counts()"
   ]
  },
  {
   "cell_type": "code",
   "execution_count": 50,
   "id": "d6144a56",
   "metadata": {},
   "outputs": [
    {
     "data": {
      "text/plain": [
       "(13200, 15)"
      ]
     },
     "execution_count": 50,
     "metadata": {},
     "output_type": "execute_result"
    }
   ],
   "source": [
    "X.shape"
   ]
  },
  {
   "cell_type": "markdown",
   "id": "86c1876d",
   "metadata": {},
   "source": [
    "UPSAMPLING THE DATASET TO AVOID UNBALANCE"
   ]
  },
  {
   "cell_type": "code",
   "execution_count": 51,
   "id": "cb5df1f5",
   "metadata": {},
   "outputs": [
    {
     "data": {
      "text/plain": [
       "Dryness\n",
       "0    12618\n",
       "1    12618\n",
       "Name: count, dtype: int64"
      ]
     },
     "execution_count": 51,
     "metadata": {},
     "output_type": "execute_result"
    }
   ],
   "source": [
    "smote = SMOTE(random_state=42)\n",
    "X_upsampled, y_upsampled = smote.fit_resample(X, y)\n",
    "\n",
    "y_upsampled.value_counts()"
   ]
  },
  {
   "cell_type": "markdown",
   "id": "d77b6e53",
   "metadata": {},
   "source": [
    "### Splitting dataset - training and testing"
   ]
  },
  {
   "cell_type": "code",
   "execution_count": 52,
   "id": "1c4120e7",
   "metadata": {},
   "outputs": [
    {
     "data": {
      "text/plain": [
       "((20188, 15), (5048, 15), (20188,), (5048,))"
      ]
     },
     "execution_count": 52,
     "metadata": {},
     "output_type": "execute_result"
    }
   ],
   "source": [
    "X_train_up, X_test_up, y_train_up, y_test_up = train_test_split(X_upsampled, y_upsampled, test_size = 0.2, random_state = 42)\n",
    "X_train_up.shape, X_test_up.shape, y_train_up.shape, y_test_up.shape"
   ]
  },
  {
   "cell_type": "markdown",
   "id": "d14a47e3",
   "metadata": {},
   "source": [
    "### Applying the Support Vector Machine"
   ]
  },
  {
   "cell_type": "code",
   "execution_count": 53,
   "id": "8bf85597",
   "metadata": {},
   "outputs": [
    {
     "name": "stdout",
     "output_type": "stream",
     "text": [
      "Kernel = linear | C = 1 | Accuracy Score = 0.9712757527733756\n",
      "Kernel = poly | C = 1 | Accuracy Score = 0.9849445324881141\n",
      "Kernel = rbf | C = 1 | Accuracy Score = 0.9839540412044374\n",
      "Kernel = sigmoid | C = 1 | Accuracy Score = 0.8676703645007924\n",
      "Kernel = linear | C = 100 | Accuracy Score = 0.9706814580031695\n",
      "Kernel = poly | C = 100 | Accuracy Score = 0.9920760697305864\n",
      "Kernel = rbf | C = 100 | Accuracy Score = 0.9950475435816165\n",
      "Kernel = sigmoid | C = 100 | Accuracy Score = 0.8631141045958796\n",
      "Kernel = linear | C = 1000 | Accuracy Score = 0.970879556259905\n",
      "Kernel = poly | C = 1000 | Accuracy Score = 0.993066561014263\n",
      "Kernel = rbf | C = 1000 | Accuracy Score = 0.9966323296354992\n",
      "Kernel = sigmoid | C = 1000 | Accuracy Score = 0.8631141045958796\n"
     ]
    }
   ],
   "source": [
    "from itertools import product\n",
    "\n",
    "kernels = ['linear', 'poly', 'rbf', 'sigmoid']\n",
    "c_values = [1, 100, 1000]\n",
    "outcome = []\n",
    "\n",
    "for c,kernel in product(c_values, kernels):\n",
    "    svc_model = SVC(kernel=kernel, C=c)\n",
    "    svc_model.fit(X_train_up, y_train_up)\n",
    "    Y_pred = svc_model.predict(X_test_up)\n",
    "    acs = accuracy_score(y_test_up, Y_pred)\n",
    "    outcome.append((kernel, c, acs))\n",
    "\n",
    "for kernel, c, acs in outcome:\n",
    "    print(f'Kernel = {kernel} | C = {c} | Accuracy Score = {acs}')"
   ]
  },
  {
   "cell_type": "markdown",
   "id": "c25b5b70",
   "metadata": {},
   "source": [
    "### Rerunning the loop with the cross validation for each selected number of folds "
   ]
  },
  {
   "cell_type": "code",
   "execution_count": null,
   "id": "0c7b6132",
   "metadata": {},
   "outputs": [
    {
     "name": "stdout",
     "output_type": "stream",
     "text": [
      "Kernel = linear | C = 1 | CV Accuracy = [0.97077761 0.96384349 0.97300644 0.9742383  0.97052267]\n",
      "Kernel = linear | C = 100 | CV Accuracy = [0.9717682  0.96433878 0.97251114 0.9742383  0.97101808]\n"
     ]
    }
   ],
   "source": [
    "for kernel, c in product(kernels, c_values):\n",
    "    model = SVC(kernel=kernel, C=c)\n",
    "    cv_scores = cross_val_score(model, X_train_up, y_train_up, cv=5)\n",
    "    print(f\"Kernel = {kernel} | C = {c} | CV Accuracy = {cv_scores}\")"
   ]
  },
  {
   "cell_type": "markdown",
   "id": "0333012d",
   "metadata": {},
   "source": [
    "#### Key findings:\n",
    "\n",
    " * Based on both accuracy and 5-fold cross-validation scores, the SVM model demonstrated consistently high precision (above 97%) when using RBF and polynomial kernels, particularly at higher C values. Linear kernels also performed well, but sigmoid showed a noticeable drop in accuracy (~86%), suggesting it may not be well-suited for this task.\n",
    "\n",
    " * These results indicate that the SVM model is highly effective in classifying dry days when the appropriate kernel and regularization strength are selected. This has potential applications in early wildfire risk detection, where understanding dry-day patterns __(temperature, humidity and precipitation)__ could contribute to preventative planning.\n",
    "\n",
    " * Between all Kernels the only with the highest confidence is the:\n",
    " Kernel = rbf | C = 1000 | demonstrating accuracy results above 99.5%.\n",
    "\n",
    " \n"
   ]
  }
 ],
 "metadata": {
  "kernelspec": {
   "display_name": ".venv",
   "language": "python",
   "name": "python3"
  },
  "language_info": {
   "codemirror_mode": {
    "name": "ipython",
    "version": 3
   },
   "file_extension": ".py",
   "mimetype": "text/x-python",
   "name": "python",
   "nbconvert_exporter": "python",
   "pygments_lexer": "ipython3",
   "version": "3.13.3"
  }
 },
 "nbformat": 4,
 "nbformat_minor": 5
}
