{
 "cells": [
  {
   "cell_type": "code",
   "execution_count": 36,
   "id": "d3d6a3d2",
   "metadata": {},
   "outputs": [],
   "source": [
    "import pandas as pd\n",
    "import numpy as np\n",
    "import matplotlib.pyplot as plt\n",
    "import seaborn as sns\n",
    "from scipy import stats\n",
    "from sklearn.neighbors import KNeighborsClassifier\n",
    "from sklearn.metrics import accuracy_score\n",
    "from sklearn.model_selection import train_test_split\n",
    "from imblearn.over_sampling import SMOTE\n",
    "\n",
    "# Load the dataset\n",
    "df1 = pd.read_csv(r\"../datasets/processed_weather_data.csv\")\n",
    "# Preprocess the data\n",
    "df = pd.read_csv(r\"../datasets/weather_data_target.csv\")"
   ]
  },
  {
   "cell_type": "markdown",
   "id": "54ce785e",
   "metadata": {},
   "source": [
    "### Machine learning "
   ]
  },
  {
   "cell_type": "markdown",
   "id": "061312de",
   "metadata": {},
   "source": [
    "* ML model selection\n",
    "    - At this point of the project, I'll start the process to perform the __KNN - K Nearest Neighbors__ to practice and consolidate the knowledge acquired during the classes (2025/06/17)."
   ]
  },
  {
   "cell_type": "code",
   "execution_count": 37,
   "id": "b639d1a8",
   "metadata": {},
   "outputs": [
    {
     "data": {
      "text/html": [
       "<div>\n",
       "<style scoped>\n",
       "    .dataframe tbody tr th:only-of-type {\n",
       "        vertical-align: middle;\n",
       "    }\n",
       "\n",
       "    .dataframe tbody tr th {\n",
       "        vertical-align: top;\n",
       "    }\n",
       "\n",
       "    .dataframe thead th {\n",
       "        text-align: right;\n",
       "    }\n",
       "</style>\n",
       "<table border=\"1\" class=\"dataframe\">\n",
       "  <thead>\n",
       "    <tr style=\"text-align: right;\">\n",
       "      <th></th>\n",
       "      <th>Temperature</th>\n",
       "      <th>Humidity</th>\n",
       "      <th>Wind Speed</th>\n",
       "      <th>Precipitation (%)</th>\n",
       "      <th>Cloud Cover</th>\n",
       "      <th>Atmospheric Pressure</th>\n",
       "      <th>UV Index</th>\n",
       "      <th>Season</th>\n",
       "      <th>Visibility (km)</th>\n",
       "      <th>Location</th>\n",
       "      <th>Dryness</th>\n",
       "    </tr>\n",
       "  </thead>\n",
       "  <tbody>\n",
       "    <tr>\n",
       "      <th>0</th>\n",
       "      <td>14.0</td>\n",
       "      <td>73</td>\n",
       "      <td>9.5</td>\n",
       "      <td>82.0</td>\n",
       "      <td>partly cloudy</td>\n",
       "      <td>1010.82</td>\n",
       "      <td>2</td>\n",
       "      <td>Winter</td>\n",
       "      <td>3.5</td>\n",
       "      <td>inland</td>\n",
       "      <td>0</td>\n",
       "    </tr>\n",
       "    <tr>\n",
       "      <th>1</th>\n",
       "      <td>39.0</td>\n",
       "      <td>96</td>\n",
       "      <td>8.5</td>\n",
       "      <td>71.0</td>\n",
       "      <td>partly cloudy</td>\n",
       "      <td>1011.43</td>\n",
       "      <td>7</td>\n",
       "      <td>Spring</td>\n",
       "      <td>10.0</td>\n",
       "      <td>inland</td>\n",
       "      <td>0</td>\n",
       "    </tr>\n",
       "    <tr>\n",
       "      <th>2</th>\n",
       "      <td>30.0</td>\n",
       "      <td>64</td>\n",
       "      <td>7.0</td>\n",
       "      <td>16.0</td>\n",
       "      <td>clear</td>\n",
       "      <td>1018.72</td>\n",
       "      <td>5</td>\n",
       "      <td>Spring</td>\n",
       "      <td>5.5</td>\n",
       "      <td>mountain</td>\n",
       "      <td>0</td>\n",
       "    </tr>\n",
       "    <tr>\n",
       "      <th>3</th>\n",
       "      <td>38.0</td>\n",
       "      <td>83</td>\n",
       "      <td>1.5</td>\n",
       "      <td>82.0</td>\n",
       "      <td>clear</td>\n",
       "      <td>1026.25</td>\n",
       "      <td>7</td>\n",
       "      <td>Spring</td>\n",
       "      <td>1.0</td>\n",
       "      <td>coastal</td>\n",
       "      <td>0</td>\n",
       "    </tr>\n",
       "    <tr>\n",
       "      <th>4</th>\n",
       "      <td>27.0</td>\n",
       "      <td>74</td>\n",
       "      <td>17.0</td>\n",
       "      <td>66.0</td>\n",
       "      <td>overcast</td>\n",
       "      <td>990.67</td>\n",
       "      <td>1</td>\n",
       "      <td>Winter</td>\n",
       "      <td>2.5</td>\n",
       "      <td>mountain</td>\n",
       "      <td>0</td>\n",
       "    </tr>\n",
       "  </tbody>\n",
       "</table>\n",
       "</div>"
      ],
      "text/plain": [
       "   Temperature  Humidity  Wind Speed  Precipitation (%)    Cloud Cover  \\\n",
       "0         14.0        73         9.5               82.0  partly cloudy   \n",
       "1         39.0        96         8.5               71.0  partly cloudy   \n",
       "2         30.0        64         7.0               16.0          clear   \n",
       "3         38.0        83         1.5               82.0          clear   \n",
       "4         27.0        74        17.0               66.0       overcast   \n",
       "\n",
       "   Atmospheric Pressure  UV Index  Season  Visibility (km)  Location  Dryness  \n",
       "0               1010.82         2  Winter              3.5    inland        0  \n",
       "1               1011.43         7  Spring             10.0    inland        0  \n",
       "2               1018.72         5  Spring              5.5  mountain        0  \n",
       "3               1026.25         7  Spring              1.0   coastal        0  \n",
       "4                990.67         1  Winter              2.5  mountain        0  "
      ]
     },
     "execution_count": 37,
     "metadata": {},
     "output_type": "execute_result"
    }
   ],
   "source": [
    "df.head()"
   ]
  },
  {
   "cell_type": "markdown",
   "id": "dbae9ed9",
   "metadata": {},
   "source": [
    "The Scaling of the dataset was done on the \"weather_classification_analysis_final\" notebook.\n",
    "* The method chosen to scale was StandardScaling"
   ]
  },
  {
   "cell_type": "code",
   "execution_count": 38,
   "id": "b615d75b",
   "metadata": {},
   "outputs": [
    {
     "data": {
      "text/html": [
       "<div>\n",
       "<style scoped>\n",
       "    .dataframe tbody tr th:only-of-type {\n",
       "        vertical-align: middle;\n",
       "    }\n",
       "\n",
       "    .dataframe tbody tr th {\n",
       "        vertical-align: top;\n",
       "    }\n",
       "\n",
       "    .dataframe thead th {\n",
       "        text-align: right;\n",
       "    }\n",
       "</style>\n",
       "<table border=\"1\" class=\"dataframe\">\n",
       "  <thead>\n",
       "    <tr style=\"text-align: right;\">\n",
       "      <th></th>\n",
       "      <th>num__Temperature</th>\n",
       "      <th>num__Humidity</th>\n",
       "      <th>num__Wind Speed</th>\n",
       "      <th>num__Precipitation (%)</th>\n",
       "      <th>num__Atmospheric Pressure</th>\n",
       "      <th>num__UV Index</th>\n",
       "      <th>num__Visibility (km)</th>\n",
       "      <th>cat__Cloud Cover_cloudy</th>\n",
       "      <th>cat__Cloud Cover_overcast</th>\n",
       "      <th>cat__Cloud Cover_partly cloudy</th>\n",
       "      <th>cat__Season_Spring</th>\n",
       "      <th>cat__Season_Summer</th>\n",
       "      <th>cat__Season_Winter</th>\n",
       "      <th>cat__Location_inland</th>\n",
       "      <th>cat__Location_mountain</th>\n",
       "    </tr>\n",
       "  </thead>\n",
       "  <tbody>\n",
       "    <tr>\n",
       "      <th>0</th>\n",
       "      <td>-0.294931</td>\n",
       "      <td>0.212404</td>\n",
       "      <td>-0.048086</td>\n",
       "      <td>0.887629</td>\n",
       "      <td>0.134203</td>\n",
       "      <td>-0.520104</td>\n",
       "      <td>-0.582231</td>\n",
       "      <td>0.0</td>\n",
       "      <td>0.0</td>\n",
       "      <td>1.0</td>\n",
       "      <td>0.0</td>\n",
       "      <td>0.0</td>\n",
       "      <td>1.0</td>\n",
       "      <td>1.0</td>\n",
       "      <td>0.0</td>\n",
       "    </tr>\n",
       "    <tr>\n",
       "      <th>1</th>\n",
       "      <td>1.143035</td>\n",
       "      <td>1.351385</td>\n",
       "      <td>-0.192836</td>\n",
       "      <td>0.543291</td>\n",
       "      <td>0.150602</td>\n",
       "      <td>0.776424</td>\n",
       "      <td>1.345768</td>\n",
       "      <td>0.0</td>\n",
       "      <td>0.0</td>\n",
       "      <td>1.0</td>\n",
       "      <td>1.0</td>\n",
       "      <td>0.0</td>\n",
       "      <td>0.0</td>\n",
       "      <td>1.0</td>\n",
       "      <td>0.0</td>\n",
       "    </tr>\n",
       "    <tr>\n",
       "      <th>2</th>\n",
       "      <td>0.625367</td>\n",
       "      <td>-0.233285</td>\n",
       "      <td>-0.409962</td>\n",
       "      <td>-1.178401</td>\n",
       "      <td>0.346579</td>\n",
       "      <td>0.257813</td>\n",
       "      <td>0.010999</td>\n",
       "      <td>0.0</td>\n",
       "      <td>0.0</td>\n",
       "      <td>0.0</td>\n",
       "      <td>1.0</td>\n",
       "      <td>0.0</td>\n",
       "      <td>0.0</td>\n",
       "      <td>0.0</td>\n",
       "      <td>1.0</td>\n",
       "    </tr>\n",
       "    <tr>\n",
       "      <th>3</th>\n",
       "      <td>1.085516</td>\n",
       "      <td>0.707613</td>\n",
       "      <td>-1.206089</td>\n",
       "      <td>0.887629</td>\n",
       "      <td>0.549008</td>\n",
       "      <td>0.776424</td>\n",
       "      <td>-1.323769</td>\n",
       "      <td>0.0</td>\n",
       "      <td>0.0</td>\n",
       "      <td>0.0</td>\n",
       "      <td>1.0</td>\n",
       "      <td>0.0</td>\n",
       "      <td>0.0</td>\n",
       "      <td>0.0</td>\n",
       "      <td>0.0</td>\n",
       "    </tr>\n",
       "    <tr>\n",
       "      <th>4</th>\n",
       "      <td>0.452811</td>\n",
       "      <td>0.261924</td>\n",
       "      <td>1.037543</td>\n",
       "      <td>0.386773</td>\n",
       "      <td>-0.407490</td>\n",
       "      <td>-0.779410</td>\n",
       "      <td>-0.878846</td>\n",
       "      <td>0.0</td>\n",
       "      <td>1.0</td>\n",
       "      <td>0.0</td>\n",
       "      <td>0.0</td>\n",
       "      <td>0.0</td>\n",
       "      <td>1.0</td>\n",
       "      <td>0.0</td>\n",
       "      <td>1.0</td>\n",
       "    </tr>\n",
       "  </tbody>\n",
       "</table>\n",
       "</div>"
      ],
      "text/plain": [
       "   num__Temperature  num__Humidity  num__Wind Speed  num__Precipitation (%)  \\\n",
       "0         -0.294931       0.212404        -0.048086                0.887629   \n",
       "1          1.143035       1.351385        -0.192836                0.543291   \n",
       "2          0.625367      -0.233285        -0.409962               -1.178401   \n",
       "3          1.085516       0.707613        -1.206089                0.887629   \n",
       "4          0.452811       0.261924         1.037543                0.386773   \n",
       "\n",
       "   num__Atmospheric Pressure  num__UV Index  num__Visibility (km)  \\\n",
       "0                   0.134203      -0.520104             -0.582231   \n",
       "1                   0.150602       0.776424              1.345768   \n",
       "2                   0.346579       0.257813              0.010999   \n",
       "3                   0.549008       0.776424             -1.323769   \n",
       "4                  -0.407490      -0.779410             -0.878846   \n",
       "\n",
       "   cat__Cloud Cover_cloudy  cat__Cloud Cover_overcast  \\\n",
       "0                      0.0                        0.0   \n",
       "1                      0.0                        0.0   \n",
       "2                      0.0                        0.0   \n",
       "3                      0.0                        0.0   \n",
       "4                      0.0                        1.0   \n",
       "\n",
       "   cat__Cloud Cover_partly cloudy  cat__Season_Spring  cat__Season_Summer  \\\n",
       "0                             1.0                 0.0                 0.0   \n",
       "1                             1.0                 1.0                 0.0   \n",
       "2                             0.0                 1.0                 0.0   \n",
       "3                             0.0                 1.0                 0.0   \n",
       "4                             0.0                 0.0                 0.0   \n",
       "\n",
       "   cat__Season_Winter  cat__Location_inland  cat__Location_mountain  \n",
       "0                 1.0                   1.0                     0.0  \n",
       "1                 0.0                   1.0                     0.0  \n",
       "2                 0.0                   0.0                     1.0  \n",
       "3                 0.0                   0.0                     0.0  \n",
       "4                 1.0                   0.0                     1.0  "
      ]
     },
     "execution_count": 38,
     "metadata": {},
     "output_type": "execute_result"
    }
   ],
   "source": [
    "df1.head()"
   ]
  },
  {
   "cell_type": "markdown",
   "id": "e328dfa8",
   "metadata": {},
   "source": [
    "### Starting KNN application"
   ]
  },
  {
   "cell_type": "markdown",
   "id": "bc2e4a90",
   "metadata": {},
   "source": [
    "    Following the assignment directions I'll apply 70/30 and 60/40 data split."
   ]
  },
  {
   "cell_type": "markdown",
   "id": "cbf41316",
   "metadata": {},
   "source": [
    "#### 70/30"
   ]
  },
  {
   "cell_type": "code",
   "execution_count": 39,
   "id": "01fcee30",
   "metadata": {},
   "outputs": [],
   "source": [
    "# Split the data into features and target variable\n",
    "X = df1\n",
    "y = df['Dryness']\n",
    "\n",
    "X_train, X_test, y_train, y_test = train_test_split(X, y, test_size=0.3, random_state=42)"
   ]
  },
  {
   "cell_type": "markdown",
   "id": "13ea0d93",
   "metadata": {},
   "source": [
    "__UP SAMPLING TRAINING DATAPOINTS__"
   ]
  },
  {
   "cell_type": "code",
   "execution_count": 40,
   "id": "e65a0a40",
   "metadata": {},
   "outputs": [],
   "source": [
    "smote = SMOTE(random_state=42)\n",
    "X_train_upsampled, y_train_upsampled = smote.fit_resample(X_train, y_train)"
   ]
  },
  {
   "cell_type": "code",
   "execution_count": 41,
   "id": "8e21193d",
   "metadata": {},
   "outputs": [
    {
     "data": {
      "text/plain": [
       "((17658, 15), (3960, 15), (17658,), (3960,))"
      ]
     },
     "execution_count": 41,
     "metadata": {},
     "output_type": "execute_result"
    }
   ],
   "source": [
    "X_train_upsampled.shape, X_test.shape, y_train_upsampled.shape, y_test.shape"
   ]
  },
  {
   "cell_type": "code",
   "execution_count": 42,
   "id": "1128b694",
   "metadata": {},
   "outputs": [],
   "source": [
    "#Test different values of k to perform KNN\n",
    "error_rates = []\n",
    "k_values = range(1, 50)\n",
    "for k in k_values:\n",
    "    knn = KNeighborsClassifier(n_neighbors=k)\n",
    "    knn.fit(X_train_upsampled, y_train_upsampled)  # Train the model\n",
    "    Y_pred = knn.predict(X_test)  # Predict on test set\n",
    "    error = 1 - accuracy_score(y_test, Y_pred)  # Calculate error rate\n",
    "    error_rates.append(error)"
   ]
  },
  {
   "cell_type": "code",
   "execution_count": 43,
   "id": "050f11fe",
   "metadata": {},
   "outputs": [
    {
     "data": {
      "image/png": "[encoded data removed]",
      "text/plain": [
       "<Figure size 2000x500 with 1 Axes>"
      ]
     },
     "metadata": {},
     "output_type": "display_data"
    }
   ],
   "source": [
    "#Plot the elbow curve to find the optimal value of k\n",
    "plt.figure(figsize=(20, 5))\n",
    "plt.plot(k_values, error_rates, marker='o', linestyle='dashed', color='b', markersize=8)\n",
    "plt.xlabel('Number of Neighbors (k)')\n",
    "plt.ylabel('Error Rate')\n",
    "plt.title('Elbow Method to Find Optimal k')\n",
    "plt.xticks(np.arange(1, 10, step=2))\n",
    "plt.grid(True)\n",
    "plt.show()"
   ]
  },
  {
   "cell_type": "markdown",
   "id": "01f412be",
   "metadata": {},
   "source": [
    "### Observation: The error rate significantly decreased when k=2. After that, we don't see any further dip. "
   ]
  },
  {
   "cell_type": "code",
   "execution_count": 44,
   "id": "3d38c872",
   "metadata": {},
   "outputs": [
    {
     "name": "stdout",
     "output_type": "stream",
     "text": [
      "Accuracy score for KNN with 2 neighbors : 0.9606060606060606\n"
     ]
    }
   ],
   "source": [
    "### Calculate test accuracy when k=2\n",
    "knn_2 = KNeighborsClassifier(n_neighbors=2)\n",
    "knn_2.fit(X_train, y_train)\n",
    "Y_pred_2 = knn_2.predict(X_test)\n",
    "print(f\"Accuracy score for KNN with 2 neighbors : {accuracy_score(y_test, Y_pred_2)}\")"
   ]
  },
  {
   "cell_type": "code",
   "execution_count": 45,
   "id": "eed5fbf2",
   "metadata": {},
   "outputs": [],
   "source": [
    "from sklearn.model_selection import cross_val_score\n",
    "from statistics import mean"
   ]
  },
  {
   "cell_type": "code",
   "execution_count": 46,
   "id": "7b61105f",
   "metadata": {},
   "outputs": [
    {
     "name": "stdout",
     "output_type": "stream",
     "text": [
      "Average score for 2 neighbors: 0.9587662337662338\n"
     ]
    }
   ],
   "source": [
    "#Calculate cross validation score k=2\n",
    "score_k_2 = cross_val_score(knn_2, X_train, y_train, cv=10) #cv means 10-fold cross validation\n",
    "avg_score_k_2 = mean(score_k_2)\n",
    "\n",
    "print(f\"Average score for 2 neighbors: {avg_score_k_2}\")\n"
   ]
  },
  {
   "cell_type": "markdown",
   "id": "af43d414",
   "metadata": {},
   "source": [
    "### 60/40"
   ]
  },
  {
   "cell_type": "code",
   "execution_count": 47,
   "id": "d169a294",
   "metadata": {},
   "outputs": [],
   "source": [
    "# Split the data into features and target variable\n",
    "X = df1\n",
    "y = df['Dryness']\n",
    "\n",
    "X_train, X_test, y_train, y_test = train_test_split(X, y, test_size=0.4, random_state=42)"
   ]
  },
  {
   "cell_type": "markdown",
   "id": "8be889f7",
   "metadata": {},
   "source": [
    "__UP SAMPLING TRAINING DATAPOINTS__"
   ]
  },
  {
   "cell_type": "code",
   "execution_count": 48,
   "id": "0de75f04",
   "metadata": {},
   "outputs": [],
   "source": [
    "smote = SMOTE(random_state=42)\n",
    "X_train_upsampled, y_train_upsampled = smote.fit_resample(X_train, y_train)"
   ]
  },
  {
   "cell_type": "code",
   "execution_count": 49,
   "id": "5abaf72f",
   "metadata": {},
   "outputs": [
    {
     "data": {
      "text/plain": [
       "((15132, 15), (5280, 15), (15132,), (5280,))"
      ]
     },
     "execution_count": 49,
     "metadata": {},
     "output_type": "execute_result"
    }
   ],
   "source": [
    "X_train_upsampled.shape, X_test.shape, y_train_upsampled.shape, y_test.shape"
   ]
  },
  {
   "cell_type": "code",
   "execution_count": 50,
   "id": "b768954a",
   "metadata": {},
   "outputs": [],
   "source": [
    "#Test different values of k to perform KNN\n",
    "error_rates = []\n",
    "k_values = range(1, 50)\n",
    "for k in k_values:\n",
    "    knn = KNeighborsClassifier(n_neighbors=k)\n",
    "    knn.fit(X_train_upsampled, y_train_upsampled)  # Train the model\n",
    "    Y_pred = knn.predict(X_test)  # Predict on test set\n",
    "    error = 1 - accuracy_score(y_test, Y_pred)  # Calculate error rate\n",
    "    error_rates.append(error)"
   ]
  },
  {
   "cell_type": "code",
   "execution_count": 51,
   "id": "ddf70212",
   "metadata": {},
   "outputs": [
    {
     "data": {
      "image/png": "[encoded data removed]",
      "text/plain": [
       "<Figure size 2000x500 with 1 Axes>"
      ]
     },
     "metadata": {},
     "output_type": "display_data"
    }
   ],
   "source": [
    "#Plot the elbow curve to find the optimal value of k\n",
    "plt.figure(figsize=(20, 5))\n",
    "plt.plot(k_values, error_rates, marker='o', linestyle='dashed', color='b', markersize=8)\n",
    "plt.xlabel('Number of Neighbors (k)')\n",
    "plt.ylabel('Error Rate')\n",
    "plt.title('Elbow Method to Find Optimal k')\n",
    "plt.xticks(np.arange(1, 50, step=2))\n",
    "plt.grid(True)\n",
    "plt.show()"
   ]
  },
  {
   "cell_type": "markdown",
   "id": "c0ad6799",
   "metadata": {},
   "source": [
    "### Observation: The error rate significantly decreased when k=7. After that, we don't see any further dip. "
   ]
  },
  {
   "cell_type": "code",
   "execution_count": null,
   "id": "e2d1bfc0",
   "metadata": {},
   "outputs": [
    {
     "name": "stdout",
     "output_type": "stream",
     "text": [
      "Accuracy score for KNN with 2 neighbors : 0.959659090909091\n"
     ]
    }
   ],
   "source": [
    "### Calculate test accuracy when k=2\n",
    "knn_2 = KNeighborsClassifier(n_neighbors=2)\n",
    "knn_2.fit(X_train, y_train)\n",
    "Y_pred_2 = knn_2.predict(X_test)\n",
    "print(f\"Accuracy score for KNN with 2 neighbors : {accuracy_score(y_test, Y_pred_2)}\")"
   ]
  },
  {
   "cell_type": "code",
   "execution_count": 53,
   "id": "eb83cc1d",
   "metadata": {},
   "outputs": [],
   "source": [
    "from sklearn.model_selection import cross_val_score\n",
    "from statistics import mean"
   ]
  },
  {
   "cell_type": "code",
   "execution_count": 54,
   "id": "7bde2219",
   "metadata": {},
   "outputs": [
    {
     "name": "stdout",
     "output_type": "stream",
     "text": [
      "Average score for 2 neighbors: 0.959469696969697\n"
     ]
    }
   ],
   "source": [
    "#Calculate cross validation score k=2\n",
    "score_k_2 = cross_val_score(knn_2, X_train, y_train, cv=10) #cv means 10-fold cross validation\n",
    "avg_score_k_2 = mean(score_k_2)\n",
    "\n",
    "print(f\"Average score for 2 neighbors: {avg_score_k_2}\")\n"
   ]
  },
  {
   "cell_type": "markdown",
   "id": "7a70777e",
   "metadata": {},
   "source": [
    "COMPARACING BETWEEN - 70/30 AND 60/40\n",
    "\n",
    "* 70/30:\n",
    " Accuracy score for KNN with 2 neighbors : 0.9606060606060606\n",
    "\n",
    "* 60/40:\n",
    " Accuracy score for KNN with 2 neighbors : 0.959659090909091\n"
   ]
  },
  {
   "cell_type": "markdown",
   "id": "60cc68e2",
   "metadata": {},
   "source": []
  }
 ],
 "metadata": {
  "kernelspec": {
   "display_name": ".venv",
   "language": "python",
   "name": "python3"
  },
  "language_info": {
   "codemirror_mode": {
    "name": "ipython",
    "version": 3
   },
   "file_extension": ".py",
   "mimetype": "text/x-python",
   "name": "python",
   "nbconvert_exporter": "python",
   "pygments_lexer": "ipython3",
   "version": "3.13.3"
  }
 },
 "nbformat": 4,
 "nbformat_minor": 5
}
